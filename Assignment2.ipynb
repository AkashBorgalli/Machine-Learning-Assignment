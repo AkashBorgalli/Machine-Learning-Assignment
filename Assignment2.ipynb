{
 "cells": [
  {
   "cell_type": "markdown",
   "id": "0a7be7ec",
   "metadata": {},
   "source": [
    "### 1. What is the concept of human learning? Please give two examples.\n",
    "Ans. It is a process of getting knowledge, skills, seeing and understanding human behaviours. 2 examples are when we see a car and attach the term 'car', we learn that the word car refers to a particular object which drives on road and from human actions we learn how to greet someone.\n"
   ]
  },
  {
   "cell_type": "markdown",
   "id": "d86e25b3",
   "metadata": {},
   "source": [
    "### 2. What different forms of human learning are there? Are there any machine learning equivalents?\n",
    "Ans. Yes there are many forms of learning like you learn from past data or experience and also from seeing this which helps us distinguish.There are machine learning equivalents like we have computer vision which can learn from seeing or observing things, we have machine learning algorithms which learns from past data."
   ]
  },
  {
   "cell_type": "markdown",
   "id": "4cbbcbe3",
   "metadata": {},
   "source": [
    "### 3. What is machine learning, and how does it work? What are the key responsibilities of machine learning?\n",
    "Ans. Machine learning is something where it tries to recognize a pattern. The Algorithm finds a pattern from the data given to it. Some key features includes Data gathering, Data Preprocessing, Exploratory Data Analysis, Feature Engineering, Training ML Model."
   ]
  },
  {
   "cell_type": "markdown",
   "id": "3da616fa",
   "metadata": {},
   "source": [
    "### 4. Define the terms \"penalty\" and \"reward\" in the context of reinforcement learning.\n",
    "Ans. There is a agent which are trained on a reward and punishment mechanism where agent is rewarded for performing correct decision or action and punished when it takes wrong action or moves. As a result, the agent tries to minimize wrong moves and maximize the right ones."
   ]
  },
  {
   "cell_type": "markdown",
   "id": "719e02bd",
   "metadata": {},
   "source": [
    "### Q.Explain Concept Learning?\n",
    "Ans. It will help us in finding all consistent hypothesis(imagination) or the concepts. So we have different hypothesis having different concepts. For eg: Universe which has all the gadgets. General representation of concept = <x1,x2,x3,x4> Eg: Tablet = <size,color,screentype,shape> => <large,black,flat,Square>. No.of possible instances = 2^d where d is no.of features = 2^4=16\n",
    "So, Now total no of concepts = 2^2d= 2^16. You would be choosing some concepts from 2^16 which u have receievd. We choose only the concept which are consistent all the time those type of concept will be considered.Like from entire gadgets we only took tablets and smartphone whereas gadgets includes many things right!which is called as target space/hypothesis space. You assumed these features will get added without having contradictions in later stage."
   ]
  },
  {
   "cell_type": "markdown",
   "id": "b2dd6419",
   "metadata": {},
   "source": [
    "### 5. Explain the term \"learning as a search\"?\n",
    "Ans. Concept Learning as a search problem. It's like searching through a set of predefined space of potential hypotheses to identify a hypothesis that best fits the training examples."
   ]
  },
  {
   "cell_type": "markdown",
   "id": "160255bb",
   "metadata": {},
   "source": [
    "### 6. What are the various goals of machine learning? What is the relationship between these and human learning?\n",
    "Ans. Machine learning is a concept that provides systems the ability to automatically learn and improve from experience without being explicitly programmed. We try to understand things visually or frm natural language but they understand in 0's and 1's meaning binary language."
   ]
  },
  {
   "cell_type": "markdown",
   "id": "4f2cc423",
   "metadata": {},
   "source": [
    "### 7. Illustrate the various elements of machine learning using a real-life illustration?\n",
    "Ans. The various examples of machine learning are grammerly(NLP), Alexa(Speech services), Youtube(recommendation systems)"
   ]
  },
  {
   "cell_type": "markdown",
   "id": "257820b2",
   "metadata": {},
   "source": [
    "### 8. Provide an example of the abstraction method.\n",
    "Ans. We are using GMail for mailing our friends, clients, or collegues we only know how to send mail but we are not concerned as to how this mail is sent tho the other person internally."
   ]
  },
  {
   "cell_type": "markdown",
   "id": "f0d40e12",
   "metadata": {},
   "source": [
    "### 9. What is the concept of generalization? What function does it play in the machine learning process?\n",
    "Ans. The concept of generalization simply means that we are trying to reduce bias and variance at a very low extent where our training error and cv error have less distance between each other."
   ]
  },
  {
   "cell_type": "markdown",
   "id": "18365994",
   "metadata": {},
   "source": [
    "### 10. What is classification, exactly? What are the main distinctions between classification and regression?\n",
    "Ans. Classification is a type of problem  where it categorizes a set of data into different classes. The main difference between classification and regression is, Regression we create a best fit line where many data points lie near or on the line whereas in classification it tries to draw a best fit line in the middle of datapoints which are seperated. "
   ]
  },
  {
   "cell_type": "markdown",
   "id": "01482f97",
   "metadata": {},
   "source": [
    "### 11. What is regression, and how does it work? Give an example of a real-world problem that was solved using regression.\n",
    "Ans. Regression is a statistical measurement that attempts to determine the strength of the relationship between one dependent variable. It tries to build relations with the independent variables. I solved Car Price Prediction problem where i calculate price of a car based on the inputs provided by the client. "
   ]
  },
  {
   "cell_type": "markdown",
   "id": "8cf63fa8",
   "metadata": {},
   "source": [
    "### 12. Describe the clustering mechanism in detail.\n",
    "Ans. Clustering is a unsupervised Machine Learning problem where we try to group data in many clusters having similarity. So let me try to explain it by using <u>K-means clustering algorithm</u> \n",
    "1. first we decide to decide number of clusters we need to form using wcss(within cluster summation square) approach and then we try to build elbow plot\n",
    "2. Then based on no. of clusters we give to the model it tries to create tha many number of random centroids and starts clubbing them together."
   ]
  },
  {
   "cell_type": "markdown",
   "id": "da8ffa8c",
   "metadata": {},
   "source": [
    "### 13. What are different ML algorithms that are used?\n",
    "Ans. Linear Regression, Logistic Regression, DecisionTree, Random Forest, KNN, K-Means, DB-Scan"
   ]
  },
  {
   "cell_type": "markdown",
   "id": "bffb3224",
   "metadata": {},
   "source": [
    "### 14. What is studying under supervision?\n",
    "Ans. It is nothing but supervisied machine learning where you give the output feature while training the model and then learning from the behaviour it will try to predict value for the new dataset using the trained model."
   ]
  }
 ],
 "metadata": {
  "kernelspec": {
   "display_name": "Python 3",
   "language": "python",
   "name": "python3"
  },
  "language_info": {
   "codemirror_mode": {
    "name": "ipython",
    "version": 3
   },
   "file_extension": ".py",
   "mimetype": "text/x-python",
   "name": "python",
   "nbconvert_exporter": "python",
   "pygments_lexer": "ipython3",
   "version": "3.7.1"
  }
 },
 "nbformat": 4,
 "nbformat_minor": 5
}
