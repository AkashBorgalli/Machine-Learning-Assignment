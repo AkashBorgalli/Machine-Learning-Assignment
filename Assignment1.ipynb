{
 "cells": [
  {
   "cell_type": "markdown",
   "id": "0bdd3061",
   "metadata": {},
   "source": [
    "## Q. 1. What does one mean by the term \"machine learning\"?\n",
    "Ans. Machine learning is something where it tries to recognize a pattern. The Algorithm finds a pattern."
   ]
  },
  {
   "cell_type": "markdown",
   "id": "cd400fcc",
   "metadata": {},
   "source": [
    "## Q.2.  Can you think of 4 distinct types of issues where it shines? \n",
    "Ans. It can shine forcasting numerical values, classifying objects, Timeseries forcasting and solving problems based on fraud detection or segmentation"
   ]
  },
  {
   "cell_type": "markdown",
   "id": "6226e278",
   "metadata": {},
   "source": [
    "## Q.3 What is a labeled training set, and how does it work?\n",
    "Ans: As it has labelled output feature in a dataset so it comes under supervised Machine Learning. where algorithm tries to understand relations with dataset looking ath the target feature."
   ]
  },
  {
   "cell_type": "markdown",
   "id": "941df3f0",
   "metadata": {},
   "source": [
    "## Q.4.What are the two most important tasks that are supervised?\n",
    "Ans Regression and Classification"
   ]
  },
  {
   "cell_type": "markdown",
   "id": "0e1279a0",
   "metadata": {},
   "source": [
    "## Q.5 Can you think of four examples of unsupervised tasks?\n",
    "Ans Clustering, Association, PCA(Principal Component Analysis), Visualization."
   ]
  },
  {
   "cell_type": "markdown",
   "id": "80ba4906",
   "metadata": {},
   "source": [
    "## 6.State the machine learning model that would be best to make a robot walk through various unfamiliar terrains?\n",
    "Ans. I guess Reinforcement Learning"
   ]
  },
  {
   "cell_type": "markdown",
   "id": "4bbf57c3",
   "metadata": {},
   "source": [
    "## 7. Which algorithm will you use to divide your customers into different groups?\n",
    "Ans. Clustering which is a unsupervised Learning"
   ]
  },
  {
   "cell_type": "markdown",
   "id": "99c9dff0",
   "metadata": {},
   "source": [
    "## 8.Will you consider the problem of spam detection to be a supervised or unsupervised learning problem?\n",
    "Ans. I will consider it in supervised ML as it looks like a classification problem"
   ]
  },
  {
   "cell_type": "markdown",
   "id": "797de499",
   "metadata": {},
   "source": [
    "## 9.What is the concept of an online learning system?\n",
    "Ans. It is type of learning system where machine learns from small chunks of continous streaming data"
   ]
  },
  {
   "cell_type": "markdown",
   "id": "9f0ee86f",
   "metadata": {},
   "source": [
    "# 10.What is out-of-core learning, and how does it differ from core learning?\n",
    "Ans. It is a type of system that can handle datawhich cannot fit into your computer memory but it is supported by online learning system "
   ]
  },
  {
   "cell_type": "markdown",
   "id": "7bb7ef57",
   "metadata": {},
   "source": [
    "# 11.What kind of learning algorithm makes predictions using a similarity measure?\n",
    "Ans. instance based algorithms -> memorize and then apply(Instead of performing explicit generalization, it compares new problem with instances in training which are stored in memory.For Ex.Spam mails. which is also called as lazy learning or memory based learning)\n",
    "Types of instance based learning 1.Lazy Learners(KNN) 2. Radial based functions(rbf(related to weights)) 3. case based reasonining"
   ]
  },
  {
   "cell_type": "markdown",
   "id": "76a1be8f",
   "metadata": {},
   "source": [
    "# 12.What's the difference between a model parameter and a hyperparameter in a learning algorithm?\n",
    "Ans. Model parameter is something to check how the model will predict giving new set of values whereas hyper parameter tuning is used before training a model where it has many parameters "
   ]
  },
  {
   "cell_type": "markdown",
   "id": "4ae59dce",
   "metadata": {},
   "source": [
    "# 13. What are the criteria that model-based learning algorithms look for? What is the most popular method they use to achieve success? What method do they use to make predictions?\n",
    "Ans. Model based learning algorithm search for the optimal value of parameters in a model that will give the best results for the new instances. We often use a cost function or similar to determine what the parameter value has to be in order to minimize the function. The model makes prediction by using the value of the new instance and the parameters in its function."
   ]
  },
  {
   "cell_type": "markdown",
   "id": "75283970",
   "metadata": {},
   "source": [
    "## 14.Can you name four of the most important Machine Learning challenges?\n",
    "Ans Overfitting, underfitting, proper feature engineering and feature selection"
   ]
  },
  {
   "cell_type": "markdown",
   "id": "63918c3c",
   "metadata": {},
   "source": [
    "## 15.What happens if the model performs well on the training data but fails to generalize the results to new situations? Can you think of three different options?\n",
    "Ans. It is a overfitted model so in order to perform well we can build a simpler model or elimanate outliers from the data"
   ]
  },
  {
   "cell_type": "markdown",
   "id": "3f67981f",
   "metadata": {},
   "source": [
    "## 16.What exactly is a test set, and why would you need one?\n",
    "Ans we need to test whether our model is predicting near to actual values or not so for that we need to use test set.\n"
   ]
  },
  {
   "cell_type": "markdown",
   "id": "a6abc2e4",
   "metadata": {},
   "source": [
    "## 17.What is a validation set's purpose?\n",
    "Ans. Validation set is used to validate whether the model is predicting accurately or notif not again we train the model and then again on that same validation dataset"
   ]
  },
  {
   "cell_type": "markdown",
   "id": "852a19be",
   "metadata": {},
   "source": [
    "## 18.What precisely is the train-dev kit, when will you need it, how do you put it to use?\n",
    "Ans. dev-set is to rank the models in term of their accuracy and helps us decide which model to proceed further with..train data id used to learn patters in dataset..mainly used in deep learning systems"
   ]
  },
  {
   "cell_type": "markdown",
   "id": "80b4294c",
   "metadata": {},
   "source": [
    "# 19.What could go wrong if you use the test set to tune hyperparameters?\n",
    "Ans. If you tune hyperparameters using the test sets, then it may not perform well on the out-of-sample data because the model is tuned just for that specific set."
   ]
  },
  {
   "cell_type": "code",
   "execution_count": null,
   "id": "39e33cee",
   "metadata": {},
   "outputs": [],
   "source": []
  }
 ],
 "metadata": {
  "kernelspec": {
   "display_name": "Python 3",
   "language": "python",
   "name": "python3"
  },
  "language_info": {
   "codemirror_mode": {
    "name": "ipython",
    "version": 3
   },
   "file_extension": ".py",
   "mimetype": "text/x-python",
   "name": "python",
   "nbconvert_exporter": "python",
   "pygments_lexer": "ipython3",
   "version": "3.7.1"
  }
 },
 "nbformat": 4,
 "nbformat_minor": 5
}
